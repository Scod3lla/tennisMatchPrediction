{
 "cells": [
  {
   "cell_type": "markdown",
   "metadata": {},
   "source": [
    "# Progetto Web Intelligence\n",
    "Scodeller Giovanni 864906"
   ]
  },
  {
   "cell_type": "markdown",
   "metadata": {},
   "source": [
    "# Caricamento Dati e EDA"
   ]
  },
  {
   "cell_type": "code",
   "execution_count": 87,
   "metadata": {},
   "outputs": [],
   "source": [
    "# LIBRERIE\n",
    "import pandas as pd\n",
    "import numpy as np\n",
    "\n",
    "from function import addPrevWin, addRateo, addFieldWR, loadDataset, randomSwap, generalFormatting, tournamentSimulation, confusionMatrix\n",
    "from sklearn.model_selection import train_test_split\n",
    "from sklearn import tree\n",
    "from sklearn.metrics import accuracy_score"
   ]
  },
  {
   "cell_type": "code",
   "execution_count": 88,
   "metadata": {},
   "outputs": [
    {
     "data": {
      "text/html": [
       "<div>\n",
       "<style scoped>\n",
       "    .dataframe tbody tr th:only-of-type {\n",
       "        vertical-align: middle;\n",
       "    }\n",
       "\n",
       "    .dataframe tbody tr th {\n",
       "        vertical-align: top;\n",
       "    }\n",
       "\n",
       "    .dataframe thead th {\n",
       "        text-align: right;\n",
       "    }\n",
       "</style>\n",
       "<table border=\"1\" class=\"dataframe\">\n",
       "  <thead>\n",
       "    <tr style=\"text-align: right;\">\n",
       "      <th></th>\n",
       "      <th>ATP</th>\n",
       "      <th>Location</th>\n",
       "      <th>Tournament</th>\n",
       "      <th>Date</th>\n",
       "      <th>Series</th>\n",
       "      <th>Court</th>\n",
       "      <th>Surface</th>\n",
       "      <th>Round</th>\n",
       "      <th>Best of</th>\n",
       "      <th>Winner</th>\n",
       "      <th>...</th>\n",
       "      <th>EXW</th>\n",
       "      <th>EXL</th>\n",
       "      <th>LBW</th>\n",
       "      <th>LBL</th>\n",
       "      <th>PSW</th>\n",
       "      <th>PSL</th>\n",
       "      <th>MaxW</th>\n",
       "      <th>MaxL</th>\n",
       "      <th>AvgW</th>\n",
       "      <th>AvgL</th>\n",
       "    </tr>\n",
       "  </thead>\n",
       "  <tbody>\n",
       "    <tr>\n",
       "      <th>0</th>\n",
       "      <td>1</td>\n",
       "      <td>Brisbane</td>\n",
       "      <td>Brisbane International</td>\n",
       "      <td>2017-01-01</td>\n",
       "      <td>ATP250</td>\n",
       "      <td>Outdoor</td>\n",
       "      <td>Hard</td>\n",
       "      <td>1st Round</td>\n",
       "      <td>3</td>\n",
       "      <td>Thompson J.</td>\n",
       "      <td>...</td>\n",
       "      <td>1.22</td>\n",
       "      <td>3.50</td>\n",
       "      <td>1.30</td>\n",
       "      <td>3.50</td>\n",
       "      <td>1.31</td>\n",
       "      <td>3.73</td>\n",
       "      <td>1.33</td>\n",
       "      <td>3.90</td>\n",
       "      <td>1.29</td>\n",
       "      <td>3.50</td>\n",
       "    </tr>\n",
       "    <tr>\n",
       "      <th>1</th>\n",
       "      <td>1</td>\n",
       "      <td>Brisbane</td>\n",
       "      <td>Brisbane International</td>\n",
       "      <td>2017-01-02</td>\n",
       "      <td>ATP250</td>\n",
       "      <td>Outdoor</td>\n",
       "      <td>Hard</td>\n",
       "      <td>1st Round</td>\n",
       "      <td>3</td>\n",
       "      <td>Mahut N.</td>\n",
       "      <td>...</td>\n",
       "      <td>1.45</td>\n",
       "      <td>2.35</td>\n",
       "      <td>1.53</td>\n",
       "      <td>2.50</td>\n",
       "      <td>1.58</td>\n",
       "      <td>2.52</td>\n",
       "      <td>1.59</td>\n",
       "      <td>2.55</td>\n",
       "      <td>1.54</td>\n",
       "      <td>2.43</td>\n",
       "    </tr>\n",
       "    <tr>\n",
       "      <th>2</th>\n",
       "      <td>1</td>\n",
       "      <td>Brisbane</td>\n",
       "      <td>Brisbane International</td>\n",
       "      <td>2017-01-02</td>\n",
       "      <td>ATP250</td>\n",
       "      <td>Outdoor</td>\n",
       "      <td>Hard</td>\n",
       "      <td>1st Round</td>\n",
       "      <td>3</td>\n",
       "      <td>Ferrer D.</td>\n",
       "      <td>...</td>\n",
       "      <td>1.88</td>\n",
       "      <td>1.75</td>\n",
       "      <td>2.00</td>\n",
       "      <td>1.80</td>\n",
       "      <td>2.10</td>\n",
       "      <td>1.81</td>\n",
       "      <td>2.15</td>\n",
       "      <td>1.82</td>\n",
       "      <td>2.01</td>\n",
       "      <td>1.77</td>\n",
       "    </tr>\n",
       "    <tr>\n",
       "      <th>3</th>\n",
       "      <td>1</td>\n",
       "      <td>Brisbane</td>\n",
       "      <td>Brisbane International</td>\n",
       "      <td>2017-01-02</td>\n",
       "      <td>ATP250</td>\n",
       "      <td>Outdoor</td>\n",
       "      <td>Hard</td>\n",
       "      <td>1st Round</td>\n",
       "      <td>3</td>\n",
       "      <td>Edmund K.</td>\n",
       "      <td>...</td>\n",
       "      <td>1.35</td>\n",
       "      <td>2.75</td>\n",
       "      <td>1.40</td>\n",
       "      <td>3.00</td>\n",
       "      <td>1.42</td>\n",
       "      <td>3.09</td>\n",
       "      <td>1.42</td>\n",
       "      <td>3.25</td>\n",
       "      <td>1.37</td>\n",
       "      <td>3.01</td>\n",
       "    </tr>\n",
       "    <tr>\n",
       "      <th>4</th>\n",
       "      <td>1</td>\n",
       "      <td>Brisbane</td>\n",
       "      <td>Brisbane International</td>\n",
       "      <td>2017-01-02</td>\n",
       "      <td>ATP250</td>\n",
       "      <td>Outdoor</td>\n",
       "      <td>Hard</td>\n",
       "      <td>1st Round</td>\n",
       "      <td>3</td>\n",
       "      <td>Dimitrov G.</td>\n",
       "      <td>...</td>\n",
       "      <td>1.38</td>\n",
       "      <td>2.65</td>\n",
       "      <td>1.40</td>\n",
       "      <td>3.00</td>\n",
       "      <td>1.41</td>\n",
       "      <td>3.13</td>\n",
       "      <td>1.46</td>\n",
       "      <td>3.13</td>\n",
       "      <td>1.41</td>\n",
       "      <td>2.85</td>\n",
       "    </tr>\n",
       "    <tr>\n",
       "      <th>...</th>\n",
       "      <td>...</td>\n",
       "      <td>...</td>\n",
       "      <td>...</td>\n",
       "      <td>...</td>\n",
       "      <td>...</td>\n",
       "      <td>...</td>\n",
       "      <td>...</td>\n",
       "      <td>...</td>\n",
       "      <td>...</td>\n",
       "      <td>...</td>\n",
       "      <td>...</td>\n",
       "      <td>...</td>\n",
       "      <td>...</td>\n",
       "      <td>...</td>\n",
       "      <td>...</td>\n",
       "      <td>...</td>\n",
       "      <td>...</td>\n",
       "      <td>...</td>\n",
       "      <td>...</td>\n",
       "      <td>...</td>\n",
       "      <td>...</td>\n",
       "    </tr>\n",
       "    <tr>\n",
       "      <th>2628</th>\n",
       "      <td>67</td>\n",
       "      <td>London</td>\n",
       "      <td>Masters Cup</td>\n",
       "      <td>2017-11-17</td>\n",
       "      <td>Masters Cup</td>\n",
       "      <td>Indoor</td>\n",
       "      <td>Hard</td>\n",
       "      <td>Round Robin</td>\n",
       "      <td>3</td>\n",
       "      <td>Goffin D.</td>\n",
       "      <td>...</td>\n",
       "      <td>1.95</td>\n",
       "      <td>1.75</td>\n",
       "      <td>2.00</td>\n",
       "      <td>1.80</td>\n",
       "      <td>2.13</td>\n",
       "      <td>1.80</td>\n",
       "      <td>2.15</td>\n",
       "      <td>1.91</td>\n",
       "      <td>2.05</td>\n",
       "      <td>1.79</td>\n",
       "    </tr>\n",
       "    <tr>\n",
       "      <th>2629</th>\n",
       "      <td>67</td>\n",
       "      <td>London</td>\n",
       "      <td>Masters Cup</td>\n",
       "      <td>2017-11-17</td>\n",
       "      <td>Masters Cup</td>\n",
       "      <td>Indoor</td>\n",
       "      <td>Hard</td>\n",
       "      <td>Round Robin</td>\n",
       "      <td>3</td>\n",
       "      <td>Dimitrov G.</td>\n",
       "      <td>...</td>\n",
       "      <td>1.20</td>\n",
       "      <td>4.10</td>\n",
       "      <td>1.22</td>\n",
       "      <td>4.33</td>\n",
       "      <td>1.24</td>\n",
       "      <td>4.57</td>\n",
       "      <td>1.29</td>\n",
       "      <td>4.57</td>\n",
       "      <td>1.23</td>\n",
       "      <td>4.25</td>\n",
       "    </tr>\n",
       "    <tr>\n",
       "      <th>2630</th>\n",
       "      <td>67</td>\n",
       "      <td>London</td>\n",
       "      <td>Masters Cup</td>\n",
       "      <td>2017-11-18</td>\n",
       "      <td>Masters Cup</td>\n",
       "      <td>Indoor</td>\n",
       "      <td>Hard</td>\n",
       "      <td>Semifinals</td>\n",
       "      <td>3</td>\n",
       "      <td>Goffin D.</td>\n",
       "      <td>...</td>\n",
       "      <td>7.25</td>\n",
       "      <td>1.06</td>\n",
       "      <td>7.50</td>\n",
       "      <td>1.08</td>\n",
       "      <td>10.37</td>\n",
       "      <td>1.08</td>\n",
       "      <td>10.37</td>\n",
       "      <td>1.12</td>\n",
       "      <td>8.45</td>\n",
       "      <td>1.08</td>\n",
       "    </tr>\n",
       "    <tr>\n",
       "      <th>2631</th>\n",
       "      <td>67</td>\n",
       "      <td>London</td>\n",
       "      <td>Masters Cup</td>\n",
       "      <td>2017-11-18</td>\n",
       "      <td>Masters Cup</td>\n",
       "      <td>Indoor</td>\n",
       "      <td>Hard</td>\n",
       "      <td>Semifinals</td>\n",
       "      <td>3</td>\n",
       "      <td>Dimitrov G.</td>\n",
       "      <td>...</td>\n",
       "      <td>1.38</td>\n",
       "      <td>2.80</td>\n",
       "      <td>1.40</td>\n",
       "      <td>2.75</td>\n",
       "      <td>1.44</td>\n",
       "      <td>3.07</td>\n",
       "      <td>1.45</td>\n",
       "      <td>3.20</td>\n",
       "      <td>1.40</td>\n",
       "      <td>2.95</td>\n",
       "    </tr>\n",
       "    <tr>\n",
       "      <th>2632</th>\n",
       "      <td>67</td>\n",
       "      <td>London</td>\n",
       "      <td>Masters Cup</td>\n",
       "      <td>2017-11-19</td>\n",
       "      <td>Masters Cup</td>\n",
       "      <td>Indoor</td>\n",
       "      <td>Hard</td>\n",
       "      <td>The Final</td>\n",
       "      <td>3</td>\n",
       "      <td>Dimitrov G.</td>\n",
       "      <td>...</td>\n",
       "      <td>1.32</td>\n",
       "      <td>3.10</td>\n",
       "      <td>1.36</td>\n",
       "      <td>3.25</td>\n",
       "      <td>1.37</td>\n",
       "      <td>3.48</td>\n",
       "      <td>1.45</td>\n",
       "      <td>3.60</td>\n",
       "      <td>1.36</td>\n",
       "      <td>3.24</td>\n",
       "    </tr>\n",
       "  </tbody>\n",
       "</table>\n",
       "<p>2633 rows × 40 columns</p>\n",
       "</div>"
      ],
      "text/plain": [
       "      ATP  Location              Tournament       Date       Series    Court  \\\n",
       "0       1  Brisbane  Brisbane International 2017-01-01       ATP250  Outdoor   \n",
       "1       1  Brisbane  Brisbane International 2017-01-02       ATP250  Outdoor   \n",
       "2       1  Brisbane  Brisbane International 2017-01-02       ATP250  Outdoor   \n",
       "3       1  Brisbane  Brisbane International 2017-01-02       ATP250  Outdoor   \n",
       "4       1  Brisbane  Brisbane International 2017-01-02       ATP250  Outdoor   \n",
       "...   ...       ...                     ...        ...          ...      ...   \n",
       "2628   67    London             Masters Cup 2017-11-17  Masters Cup   Indoor   \n",
       "2629   67    London             Masters Cup 2017-11-17  Masters Cup   Indoor   \n",
       "2630   67    London             Masters Cup 2017-11-18  Masters Cup   Indoor   \n",
       "2631   67    London             Masters Cup 2017-11-18  Masters Cup   Indoor   \n",
       "2632   67    London             Masters Cup 2017-11-19  Masters Cup   Indoor   \n",
       "\n",
       "     Surface        Round  Best of       Winner  ...   EXW   EXL   LBW   LBL  \\\n",
       "0       Hard    1st Round        3  Thompson J.  ...  1.22  3.50  1.30  3.50   \n",
       "1       Hard    1st Round        3     Mahut N.  ...  1.45  2.35  1.53  2.50   \n",
       "2       Hard    1st Round        3    Ferrer D.  ...  1.88  1.75  2.00  1.80   \n",
       "3       Hard    1st Round        3    Edmund K.  ...  1.35  2.75  1.40  3.00   \n",
       "4       Hard    1st Round        3  Dimitrov G.  ...  1.38  2.65  1.40  3.00   \n",
       "...      ...          ...      ...          ...  ...   ...   ...   ...   ...   \n",
       "2628    Hard  Round Robin        3    Goffin D.  ...  1.95  1.75  2.00  1.80   \n",
       "2629    Hard  Round Robin        3  Dimitrov G.  ...  1.20  4.10  1.22  4.33   \n",
       "2630    Hard   Semifinals        3    Goffin D.  ...  7.25  1.06  7.50  1.08   \n",
       "2631    Hard   Semifinals        3  Dimitrov G.  ...  1.38  2.80  1.40  2.75   \n",
       "2632    Hard    The Final        3  Dimitrov G.  ...  1.32  3.10  1.36  3.25   \n",
       "\n",
       "        PSW   PSL   MaxW  MaxL  AvgW  AvgL  \n",
       "0      1.31  3.73   1.33  3.90  1.29  3.50  \n",
       "1      1.58  2.52   1.59  2.55  1.54  2.43  \n",
       "2      2.10  1.81   2.15  1.82  2.01  1.77  \n",
       "3      1.42  3.09   1.42  3.25  1.37  3.01  \n",
       "4      1.41  3.13   1.46  3.13  1.41  2.85  \n",
       "...     ...   ...    ...   ...   ...   ...  \n",
       "2628   2.13  1.80   2.15  1.91  2.05  1.79  \n",
       "2629   1.24  4.57   1.29  4.57  1.23  4.25  \n",
       "2630  10.37  1.08  10.37  1.12  8.45  1.08  \n",
       "2631   1.44  3.07   1.45  3.20  1.40  2.95  \n",
       "2632   1.37  3.48   1.45  3.60  1.36  3.24  \n",
       "\n",
       "[2633 rows x 40 columns]"
      ]
     },
     "execution_count": 88,
     "metadata": {},
     "output_type": "execute_result"
    }
   ],
   "source": [
    "# CARICAMENTO DATI\n",
    "df2017 = loadDataset(\"2017\")\n",
    "df2017"
   ]
  },
  {
   "cell_type": "code",
   "execution_count": 89,
   "metadata": {},
   "outputs": [
    {
     "name": "stdout",
     "output_type": "stream",
     "text": [
      "ATP : 6\n",
      "Location : Melbourne\n",
      "Tournament : Australian Open\n",
      "Date : 2017-01-16 00:00:00\n",
      "Series : Grand Slam\n",
      "Court : Outdoor\n",
      "Surface : Hard\n",
      "Round : 1st Round\n",
      "Best of : 5\n",
      "Winner : Chardy J.\n",
      "Loser : Almagro N.\n",
      "WRank : 72\n",
      "LRank : 42.0\n",
      "WPts : 705\n",
      "LPts : 1040.0\n",
      "W1 : 4.0\n",
      "L1 : 0.0\n",
      "W2 : nan\n",
      "L2 : nan\n",
      "W3 : nan\n",
      "L3 : nan\n",
      "W4 : nan\n",
      "L4 : nan\n",
      "W5 : nan\n",
      "L5 : nan\n",
      "Wsets : 0.0\n",
      "Lsets : 0.0\n",
      "Comment : Retired\n",
      "B365W : 1.8\n",
      "B365L : 2.0\n",
      "EXW : 1.82\n",
      "EXL : 1.82\n",
      "LBW : 1.8\n",
      "LBL : 2.0\n",
      "PSW : 1.86\n",
      "PSL : 2.05\n",
      "MaxW : 1.86\n",
      "MaxL : 2.06\n",
      "AvgW : 1.81\n",
      "AvgL : 1.97\n"
     ]
    }
   ],
   "source": [
    "# ESPLORIAMO IL CONTENUTO DI UNA ENTRY\n",
    "row = df2017.loc[140]\n",
    "for i in df2017.columns:\n",
    "    print(i,\":\", row[i])"
   ]
  },
  {
   "cell_type": "code",
   "execution_count": 90,
   "metadata": {},
   "outputs": [
    {
     "data": {
      "text/plain": [
       "ATP                    int64\n",
       "Location              object\n",
       "Tournament            object\n",
       "Date          datetime64[ns]\n",
       "Series                object\n",
       "Court                 object\n",
       "Surface               object\n",
       "Round                 object\n",
       "Best of                int64\n",
       "Winner                object\n",
       "Loser                 object\n",
       "WRank                  int64\n",
       "LRank                float64\n",
       "WPts                   int64\n",
       "LPts                 float64\n",
       "W1                   float64\n",
       "L1                   float64\n",
       "W2                   float64\n",
       "L2                   float64\n",
       "W3                   float64\n",
       "L3                   float64\n",
       "W4                   float64\n",
       "L4                   float64\n",
       "W5                   float64\n",
       "L5                   float64\n",
       "Wsets                float64\n",
       "Lsets                float64\n",
       "Comment               object\n",
       "B365W                float64\n",
       "B365L                float64\n",
       "EXW                  float64\n",
       "EXL                  float64\n",
       "LBW                  float64\n",
       "LBL                  float64\n",
       "PSW                  float64\n",
       "PSL                  float64\n",
       "MaxW                 float64\n",
       "MaxL                 float64\n",
       "AvgW                 float64\n",
       "AvgL                 float64\n",
       "dtype: object"
      ]
     },
     "execution_count": 90,
     "metadata": {},
     "output_type": "execute_result"
    }
   ],
   "source": [
    "# VEDIAMO I TIPI DI DATO DELLE FEATURE\n",
    "df2017.dtypes"
   ]
  },
  {
   "cell_type": "code",
   "execution_count": 91,
   "metadata": {},
   "outputs": [
    {
     "data": {
      "text/plain": [
       "['Location',\n",
       " 'Tournament',\n",
       " 'Series',\n",
       " 'Court',\n",
       " 'Surface',\n",
       " 'Round',\n",
       " 'Winner',\n",
       " 'Loser',\n",
       " 'Comment']"
      ]
     },
     "execution_count": 91,
     "metadata": {},
     "output_type": "execute_result"
    }
   ],
   "source": [
    "# FEATURE POTENZIALMENTE CATEGORIALI O FATTORIALI\n",
    "strcol=[]\n",
    "for col in df2017.columns:\n",
    "    if type(df2017[col][0]) == str:\n",
    "        strcol.append(col)\n",
    "strcol "
   ]
  },
  {
   "cell_type": "markdown",
   "metadata": {},
   "source": [
    "# Funzione per una formattazione generale del dataset\n",
    "\n",
    "In questa funzione viene anche aggiunto la colonna \"target\", la feature che andremmo a prevedere.\n",
    "\n",
    "Inoltre la funzione ***generalFormatting*** si preoccupa di cambiare il nome delle feature rendendole anonime, \"Winner\" -> \"Player1\" e \"Loser\" -> \"Player2\", poi applica varie tecniche per formattare i dati.\n",
    "In generale le tecniche applicate sono:\n",
    "+ le colonne che contengono valori nulli vengono sistemati a criterio, se un giocatore non ha punti in classifica entra con il minor numero di punti.\n",
    "+ Le colonne che contengono delle categorie, come \"Court\", \"Surface\" e \"Best of\" viene applicato il OneHotEncoding che crea tante feature tante quante sono le categorie di quella feature assegnando valori 0 o 1. Esempio: \"Court\" contiene \"Indoor\" e \"Outdoor\", verrano create \"Court_Indoor\" e \"Court_Outdoor\"\n",
    "+ Altre variabili come \"Series\" viene applicato il label enconding, ovvero viene data un'ettichetta numerica ad ogni classe della feature"
   ]
  },
  {
   "cell_type": "code",
   "execution_count": 92,
   "metadata": {},
   "outputs": [
    {
     "data": {
      "text/html": [
       "<div>\n",
       "<style scoped>\n",
       "    .dataframe tbody tr th:only-of-type {\n",
       "        vertical-align: middle;\n",
       "    }\n",
       "\n",
       "    .dataframe tbody tr th {\n",
       "        vertical-align: top;\n",
       "    }\n",
       "\n",
       "    .dataframe thead th {\n",
       "        text-align: right;\n",
       "    }\n",
       "</style>\n",
       "<table border=\"1\" class=\"dataframe\">\n",
       "  <thead>\n",
       "    <tr style=\"text-align: right;\">\n",
       "      <th></th>\n",
       "      <th>Tournament</th>\n",
       "      <th>Date</th>\n",
       "      <th>Series</th>\n",
       "      <th>Round</th>\n",
       "      <th>Player1</th>\n",
       "      <th>Player2</th>\n",
       "      <th>P1_Rank</th>\n",
       "      <th>P2_Rank</th>\n",
       "      <th>P1_Pts</th>\n",
       "      <th>P2_Pts</th>\n",
       "      <th>...</th>\n",
       "      <th>P1_Avg</th>\n",
       "      <th>P2_Avg</th>\n",
       "      <th>Court_Indoor</th>\n",
       "      <th>Court_Outdoor</th>\n",
       "      <th>Surface_Clay</th>\n",
       "      <th>Surface_Grass</th>\n",
       "      <th>Surface_Hard</th>\n",
       "      <th>Best of_3</th>\n",
       "      <th>Best of_5</th>\n",
       "      <th>target</th>\n",
       "    </tr>\n",
       "  </thead>\n",
       "  <tbody>\n",
       "    <tr>\n",
       "      <th>0</th>\n",
       "      <td>15</td>\n",
       "      <td>2017-01-01</td>\n",
       "      <td>0</td>\n",
       "      <td>1</td>\n",
       "      <td>Thompson J.</td>\n",
       "      <td>Ymer E.</td>\n",
       "      <td>79</td>\n",
       "      <td>160.0</td>\n",
       "      <td>689</td>\n",
       "      <td>372.0</td>\n",
       "      <td>...</td>\n",
       "      <td>1.29</td>\n",
       "      <td>3.50</td>\n",
       "      <td>0</td>\n",
       "      <td>1</td>\n",
       "      <td>0</td>\n",
       "      <td>0</td>\n",
       "      <td>1</td>\n",
       "      <td>1</td>\n",
       "      <td>0</td>\n",
       "      <td>0</td>\n",
       "    </tr>\n",
       "    <tr>\n",
       "      <th>1</th>\n",
       "      <td>15</td>\n",
       "      <td>2017-01-02</td>\n",
       "      <td>0</td>\n",
       "      <td>1</td>\n",
       "      <td>Mahut N.</td>\n",
       "      <td>Robert S.</td>\n",
       "      <td>39</td>\n",
       "      <td>54.0</td>\n",
       "      <td>1102</td>\n",
       "      <td>854.0</td>\n",
       "      <td>...</td>\n",
       "      <td>1.54</td>\n",
       "      <td>2.43</td>\n",
       "      <td>0</td>\n",
       "      <td>1</td>\n",
       "      <td>0</td>\n",
       "      <td>0</td>\n",
       "      <td>1</td>\n",
       "      <td>1</td>\n",
       "      <td>0</td>\n",
       "      <td>0</td>\n",
       "    </tr>\n",
       "    <tr>\n",
       "      <th>2</th>\n",
       "      <td>15</td>\n",
       "      <td>2017-01-02</td>\n",
       "      <td>0</td>\n",
       "      <td>1</td>\n",
       "      <td>Ferrer D.</td>\n",
       "      <td>Tomic B.</td>\n",
       "      <td>21</td>\n",
       "      <td>26.0</td>\n",
       "      <td>1785</td>\n",
       "      <td>1465.0</td>\n",
       "      <td>...</td>\n",
       "      <td>2.01</td>\n",
       "      <td>1.77</td>\n",
       "      <td>0</td>\n",
       "      <td>1</td>\n",
       "      <td>0</td>\n",
       "      <td>0</td>\n",
       "      <td>1</td>\n",
       "      <td>1</td>\n",
       "      <td>0</td>\n",
       "      <td>0</td>\n",
       "    </tr>\n",
       "    <tr>\n",
       "      <th>3</th>\n",
       "      <td>15</td>\n",
       "      <td>2017-01-02</td>\n",
       "      <td>0</td>\n",
       "      <td>1</td>\n",
       "      <td>Edmund K.</td>\n",
       "      <td>Escobedo E.</td>\n",
       "      <td>45</td>\n",
       "      <td>141.0</td>\n",
       "      <td>1001</td>\n",
       "      <td>443.0</td>\n",
       "      <td>...</td>\n",
       "      <td>1.37</td>\n",
       "      <td>3.01</td>\n",
       "      <td>0</td>\n",
       "      <td>1</td>\n",
       "      <td>0</td>\n",
       "      <td>0</td>\n",
       "      <td>1</td>\n",
       "      <td>1</td>\n",
       "      <td>0</td>\n",
       "      <td>0</td>\n",
       "    </tr>\n",
       "    <tr>\n",
       "      <th>4</th>\n",
       "      <td>15</td>\n",
       "      <td>2017-01-02</td>\n",
       "      <td>0</td>\n",
       "      <td>1</td>\n",
       "      <td>Dimitrov G.</td>\n",
       "      <td>Johnson S.</td>\n",
       "      <td>17</td>\n",
       "      <td>33.0</td>\n",
       "      <td>2035</td>\n",
       "      <td>1320.0</td>\n",
       "      <td>...</td>\n",
       "      <td>1.41</td>\n",
       "      <td>2.85</td>\n",
       "      <td>0</td>\n",
       "      <td>1</td>\n",
       "      <td>0</td>\n",
       "      <td>0</td>\n",
       "      <td>1</td>\n",
       "      <td>1</td>\n",
       "      <td>0</td>\n",
       "      <td>0</td>\n",
       "    </tr>\n",
       "    <tr>\n",
       "      <th>...</th>\n",
       "      <td>...</td>\n",
       "      <td>...</td>\n",
       "      <td>...</td>\n",
       "      <td>...</td>\n",
       "      <td>...</td>\n",
       "      <td>...</td>\n",
       "      <td>...</td>\n",
       "      <td>...</td>\n",
       "      <td>...</td>\n",
       "      <td>...</td>\n",
       "      <td>...</td>\n",
       "      <td>...</td>\n",
       "      <td>...</td>\n",
       "      <td>...</td>\n",
       "      <td>...</td>\n",
       "      <td>...</td>\n",
       "      <td>...</td>\n",
       "      <td>...</td>\n",
       "      <td>...</td>\n",
       "      <td>...</td>\n",
       "      <td>...</td>\n",
       "    </tr>\n",
       "    <tr>\n",
       "      <th>2628</th>\n",
       "      <td>39</td>\n",
       "      <td>2017-11-17</td>\n",
       "      <td>3</td>\n",
       "      <td>0</td>\n",
       "      <td>Goffin D.</td>\n",
       "      <td>Thiem D.</td>\n",
       "      <td>8</td>\n",
       "      <td>4.0</td>\n",
       "      <td>2975</td>\n",
       "      <td>3815.0</td>\n",
       "      <td>...</td>\n",
       "      <td>2.05</td>\n",
       "      <td>1.79</td>\n",
       "      <td>1</td>\n",
       "      <td>0</td>\n",
       "      <td>0</td>\n",
       "      <td>0</td>\n",
       "      <td>1</td>\n",
       "      <td>1</td>\n",
       "      <td>0</td>\n",
       "      <td>0</td>\n",
       "    </tr>\n",
       "    <tr>\n",
       "      <th>2629</th>\n",
       "      <td>39</td>\n",
       "      <td>2017-11-17</td>\n",
       "      <td>3</td>\n",
       "      <td>0</td>\n",
       "      <td>Dimitrov G.</td>\n",
       "      <td>Carreno Busta P.</td>\n",
       "      <td>6</td>\n",
       "      <td>10.0</td>\n",
       "      <td>3650</td>\n",
       "      <td>2615.0</td>\n",
       "      <td>...</td>\n",
       "      <td>1.23</td>\n",
       "      <td>4.25</td>\n",
       "      <td>1</td>\n",
       "      <td>0</td>\n",
       "      <td>0</td>\n",
       "      <td>0</td>\n",
       "      <td>1</td>\n",
       "      <td>1</td>\n",
       "      <td>0</td>\n",
       "      <td>0</td>\n",
       "    </tr>\n",
       "    <tr>\n",
       "      <th>2630</th>\n",
       "      <td>39</td>\n",
       "      <td>2017-11-18</td>\n",
       "      <td>3</td>\n",
       "      <td>6</td>\n",
       "      <td>Goffin D.</td>\n",
       "      <td>Federer R.</td>\n",
       "      <td>8</td>\n",
       "      <td>2.0</td>\n",
       "      <td>2975</td>\n",
       "      <td>9005.0</td>\n",
       "      <td>...</td>\n",
       "      <td>8.45</td>\n",
       "      <td>1.08</td>\n",
       "      <td>1</td>\n",
       "      <td>0</td>\n",
       "      <td>0</td>\n",
       "      <td>0</td>\n",
       "      <td>1</td>\n",
       "      <td>1</td>\n",
       "      <td>0</td>\n",
       "      <td>0</td>\n",
       "    </tr>\n",
       "    <tr>\n",
       "      <th>2631</th>\n",
       "      <td>39</td>\n",
       "      <td>2017-11-18</td>\n",
       "      <td>3</td>\n",
       "      <td>6</td>\n",
       "      <td>Dimitrov G.</td>\n",
       "      <td>Sock J.</td>\n",
       "      <td>6</td>\n",
       "      <td>9.0</td>\n",
       "      <td>3650</td>\n",
       "      <td>2765.0</td>\n",
       "      <td>...</td>\n",
       "      <td>1.40</td>\n",
       "      <td>2.95</td>\n",
       "      <td>1</td>\n",
       "      <td>0</td>\n",
       "      <td>0</td>\n",
       "      <td>0</td>\n",
       "      <td>1</td>\n",
       "      <td>1</td>\n",
       "      <td>0</td>\n",
       "      <td>0</td>\n",
       "    </tr>\n",
       "    <tr>\n",
       "      <th>2632</th>\n",
       "      <td>39</td>\n",
       "      <td>2017-11-19</td>\n",
       "      <td>3</td>\n",
       "      <td>7</td>\n",
       "      <td>Dimitrov G.</td>\n",
       "      <td>Goffin D.</td>\n",
       "      <td>6</td>\n",
       "      <td>8.0</td>\n",
       "      <td>3650</td>\n",
       "      <td>2975.0</td>\n",
       "      <td>...</td>\n",
       "      <td>1.36</td>\n",
       "      <td>3.24</td>\n",
       "      <td>1</td>\n",
       "      <td>0</td>\n",
       "      <td>0</td>\n",
       "      <td>0</td>\n",
       "      <td>1</td>\n",
       "      <td>1</td>\n",
       "      <td>0</td>\n",
       "      <td>0</td>\n",
       "    </tr>\n",
       "  </tbody>\n",
       "</table>\n",
       "<p>2633 rows × 42 columns</p>\n",
       "</div>"
      ],
      "text/plain": [
       "      Tournament       Date  Series  Round      Player1           Player2  \\\n",
       "0             15 2017-01-01       0      1  Thompson J.           Ymer E.   \n",
       "1             15 2017-01-02       0      1     Mahut N.         Robert S.   \n",
       "2             15 2017-01-02       0      1    Ferrer D.          Tomic B.   \n",
       "3             15 2017-01-02       0      1    Edmund K.       Escobedo E.   \n",
       "4             15 2017-01-02       0      1  Dimitrov G.        Johnson S.   \n",
       "...          ...        ...     ...    ...          ...               ...   \n",
       "2628          39 2017-11-17       3      0    Goffin D.          Thiem D.   \n",
       "2629          39 2017-11-17       3      0  Dimitrov G.  Carreno Busta P.   \n",
       "2630          39 2017-11-18       3      6    Goffin D.        Federer R.   \n",
       "2631          39 2017-11-18       3      6  Dimitrov G.           Sock J.   \n",
       "2632          39 2017-11-19       3      7  Dimitrov G.         Goffin D.   \n",
       "\n",
       "      P1_Rank  P2_Rank  P1_Pts  P2_Pts  ...  P1_Avg  P2_Avg  Court_Indoor  \\\n",
       "0          79    160.0     689   372.0  ...    1.29    3.50             0   \n",
       "1          39     54.0    1102   854.0  ...    1.54    2.43             0   \n",
       "2          21     26.0    1785  1465.0  ...    2.01    1.77             0   \n",
       "3          45    141.0    1001   443.0  ...    1.37    3.01             0   \n",
       "4          17     33.0    2035  1320.0  ...    1.41    2.85             0   \n",
       "...       ...      ...     ...     ...  ...     ...     ...           ...   \n",
       "2628        8      4.0    2975  3815.0  ...    2.05    1.79             1   \n",
       "2629        6     10.0    3650  2615.0  ...    1.23    4.25             1   \n",
       "2630        8      2.0    2975  9005.0  ...    8.45    1.08             1   \n",
       "2631        6      9.0    3650  2765.0  ...    1.40    2.95             1   \n",
       "2632        6      8.0    3650  2975.0  ...    1.36    3.24             1   \n",
       "\n",
       "      Court_Outdoor  Surface_Clay  Surface_Grass  Surface_Hard  Best of_3  \\\n",
       "0                 1             0              0             1          1   \n",
       "1                 1             0              0             1          1   \n",
       "2                 1             0              0             1          1   \n",
       "3                 1             0              0             1          1   \n",
       "4                 1             0              0             1          1   \n",
       "...             ...           ...            ...           ...        ...   \n",
       "2628              0             0              0             1          1   \n",
       "2629              0             0              0             1          1   \n",
       "2630              0             0              0             1          1   \n",
       "2631              0             0              0             1          1   \n",
       "2632              0             0              0             1          1   \n",
       "\n",
       "      Best of_5  target  \n",
       "0             0       0  \n",
       "1             0       0  \n",
       "2             0       0  \n",
       "3             0       0  \n",
       "4             0       0  \n",
       "...         ...     ...  \n",
       "2628          0       0  \n",
       "2629          0       0  \n",
       "2630          0       0  \n",
       "2631          0       0  \n",
       "2632          0       0  \n",
       "\n",
       "[2633 rows x 42 columns]"
      ]
     },
     "execution_count": 92,
     "metadata": {},
     "output_type": "execute_result"
    }
   ],
   "source": [
    "df2017 = generalFormatting(df2017)\n",
    "df2017"
   ]
  },
  {
   "cell_type": "code",
   "execution_count": null,
   "metadata": {},
   "outputs": [],
   "source": []
  },
  {
   "cell_type": "markdown",
   "metadata": {},
   "source": [
    "# Prima prova applicazione modello"
   ]
  },
  {
   "cell_type": "markdown",
   "metadata": {},
   "source": [
    "droppiamo le colonne che non posso essere calcolate a priori, ovvero quelle variabili che non si possono sapere senza avere già chi ha vinto o perso"
   ]
  },
  {
   "cell_type": "code",
   "execution_count": 93,
   "metadata": {},
   "outputs": [
    {
     "name": "stdout",
     "output_type": "stream",
     "text": [
      "Loaded 2017\n"
     ]
    }
   ],
   "source": [
    "\n",
    "df2017.drop([\"Date\", 'P1_S1', 'P2_S1', 'P1_S2',\n",
    "       'P2_S2', 'P1_S3', 'P2_S3', 'P1_S4', 'P2_S4', 'P1_S5', 'P2_S5',\n",
    "       'P1_sets', 'P2_sets', 'P1_B365', 'P2_B365', 'P1_EX', 'P2_EX', 'P1_LB',\n",
    "       'P2_LB', 'P1_PS', 'P2_PS', 'P1_Max', 'P2_Max', 'P1_Avg', 'P2_Avg'], axis = 1, inplace = True)\n",
    "\n",
    "print(\"Loaded 2017\")\n"
   ]
  },
  {
   "cell_type": "code",
   "execution_count": 94,
   "metadata": {},
   "outputs": [
    {
     "data": {
      "text/html": [
       "<div>\n",
       "<style scoped>\n",
       "    .dataframe tbody tr th:only-of-type {\n",
       "        vertical-align: middle;\n",
       "    }\n",
       "\n",
       "    .dataframe tbody tr th {\n",
       "        vertical-align: top;\n",
       "    }\n",
       "\n",
       "    .dataframe thead th {\n",
       "        text-align: right;\n",
       "    }\n",
       "</style>\n",
       "<table border=\"1\" class=\"dataframe\">\n",
       "  <thead>\n",
       "    <tr style=\"text-align: right;\">\n",
       "      <th></th>\n",
       "      <th>Tournament</th>\n",
       "      <th>Series</th>\n",
       "      <th>Round</th>\n",
       "      <th>Player1</th>\n",
       "      <th>Player2</th>\n",
       "      <th>P1_Rank</th>\n",
       "      <th>P2_Rank</th>\n",
       "      <th>P1_Pts</th>\n",
       "      <th>P2_Pts</th>\n",
       "      <th>Court_Indoor</th>\n",
       "      <th>Court_Outdoor</th>\n",
       "      <th>Surface_Clay</th>\n",
       "      <th>Surface_Grass</th>\n",
       "      <th>Surface_Hard</th>\n",
       "      <th>Best of_3</th>\n",
       "      <th>Best of_5</th>\n",
       "      <th>target</th>\n",
       "    </tr>\n",
       "  </thead>\n",
       "  <tbody>\n",
       "    <tr>\n",
       "      <th>0</th>\n",
       "      <td>15</td>\n",
       "      <td>0</td>\n",
       "      <td>1</td>\n",
       "      <td>Thompson J.</td>\n",
       "      <td>Ymer E.</td>\n",
       "      <td>79</td>\n",
       "      <td>160.0</td>\n",
       "      <td>689</td>\n",
       "      <td>372.0</td>\n",
       "      <td>0</td>\n",
       "      <td>1</td>\n",
       "      <td>0</td>\n",
       "      <td>0</td>\n",
       "      <td>1</td>\n",
       "      <td>1</td>\n",
       "      <td>0</td>\n",
       "      <td>0</td>\n",
       "    </tr>\n",
       "    <tr>\n",
       "      <th>1</th>\n",
       "      <td>15</td>\n",
       "      <td>0</td>\n",
       "      <td>1</td>\n",
       "      <td>Mahut N.</td>\n",
       "      <td>Robert S.</td>\n",
       "      <td>39</td>\n",
       "      <td>54.0</td>\n",
       "      <td>1102</td>\n",
       "      <td>854.0</td>\n",
       "      <td>0</td>\n",
       "      <td>1</td>\n",
       "      <td>0</td>\n",
       "      <td>0</td>\n",
       "      <td>1</td>\n",
       "      <td>1</td>\n",
       "      <td>0</td>\n",
       "      <td>0</td>\n",
       "    </tr>\n",
       "    <tr>\n",
       "      <th>2</th>\n",
       "      <td>15</td>\n",
       "      <td>0</td>\n",
       "      <td>1</td>\n",
       "      <td>Ferrer D.</td>\n",
       "      <td>Tomic B.</td>\n",
       "      <td>21</td>\n",
       "      <td>26.0</td>\n",
       "      <td>1785</td>\n",
       "      <td>1465.0</td>\n",
       "      <td>0</td>\n",
       "      <td>1</td>\n",
       "      <td>0</td>\n",
       "      <td>0</td>\n",
       "      <td>1</td>\n",
       "      <td>1</td>\n",
       "      <td>0</td>\n",
       "      <td>0</td>\n",
       "    </tr>\n",
       "    <tr>\n",
       "      <th>3</th>\n",
       "      <td>15</td>\n",
       "      <td>0</td>\n",
       "      <td>1</td>\n",
       "      <td>Edmund K.</td>\n",
       "      <td>Escobedo E.</td>\n",
       "      <td>45</td>\n",
       "      <td>141.0</td>\n",
       "      <td>1001</td>\n",
       "      <td>443.0</td>\n",
       "      <td>0</td>\n",
       "      <td>1</td>\n",
       "      <td>0</td>\n",
       "      <td>0</td>\n",
       "      <td>1</td>\n",
       "      <td>1</td>\n",
       "      <td>0</td>\n",
       "      <td>0</td>\n",
       "    </tr>\n",
       "    <tr>\n",
       "      <th>4</th>\n",
       "      <td>15</td>\n",
       "      <td>0</td>\n",
       "      <td>1</td>\n",
       "      <td>Dimitrov G.</td>\n",
       "      <td>Johnson S.</td>\n",
       "      <td>17</td>\n",
       "      <td>33.0</td>\n",
       "      <td>2035</td>\n",
       "      <td>1320.0</td>\n",
       "      <td>0</td>\n",
       "      <td>1</td>\n",
       "      <td>0</td>\n",
       "      <td>0</td>\n",
       "      <td>1</td>\n",
       "      <td>1</td>\n",
       "      <td>0</td>\n",
       "      <td>0</td>\n",
       "    </tr>\n",
       "  </tbody>\n",
       "</table>\n",
       "</div>"
      ],
      "text/plain": [
       "   Tournament  Series  Round      Player1      Player2  P1_Rank  P2_Rank  \\\n",
       "0          15       0      1  Thompson J.      Ymer E.       79    160.0   \n",
       "1          15       0      1     Mahut N.    Robert S.       39     54.0   \n",
       "2          15       0      1    Ferrer D.     Tomic B.       21     26.0   \n",
       "3          15       0      1    Edmund K.  Escobedo E.       45    141.0   \n",
       "4          15       0      1  Dimitrov G.   Johnson S.       17     33.0   \n",
       "\n",
       "   P1_Pts  P2_Pts  Court_Indoor  Court_Outdoor  Surface_Clay  Surface_Grass  \\\n",
       "0     689   372.0             0              1             0              0   \n",
       "1    1102   854.0             0              1             0              0   \n",
       "2    1785  1465.0             0              1             0              0   \n",
       "3    1001   443.0             0              1             0              0   \n",
       "4    2035  1320.0             0              1             0              0   \n",
       "\n",
       "   Surface_Hard  Best of_3  Best of_5  target  \n",
       "0             1          1          0       0  \n",
       "1             1          1          0       0  \n",
       "2             1          1          0       0  \n",
       "3             1          1          0       0  \n",
       "4             1          1          0       0  "
      ]
     },
     "execution_count": 94,
     "metadata": {},
     "output_type": "execute_result"
    }
   ],
   "source": [
    "df2017.head()"
   ]
  },
  {
   "cell_type": "markdown",
   "metadata": {},
   "source": [
    " # Applicazione modello stupido\n",
    "In questo modello diciamo che il giocatore più forte, ovvero quello che in classifica ha il numero più basso, vincerà sempre"
   ]
  },
  {
   "cell_type": "code",
   "execution_count": null,
   "metadata": {},
   "outputs": [],
   "source": []
  },
  {
   "cell_type": "code",
   "execution_count": 95,
   "metadata": {},
   "outputs": [
    {
     "name": "stdout",
     "output_type": "stream",
     "text": [
      "Accuracy score:  0.6498290922901633\n"
     ]
    }
   ],
   "source": [
    "y_test = df2017[\"target\"]\n",
    "y_pred = []\n",
    "for i in range(0,df2017.shape[0]):\n",
    "    y_pred.append(np.where(df2017.loc[i,\"P1_Rank\"] < df2017.loc[i,\"P2_Rank\"], 0, 1))\n",
    "    \n",
    "print(\"Accuracy score: \", accuracy_score(y_true = y_test, y_pred=y_pred))"
   ]
  },
  {
   "cell_type": "markdown",
   "metadata": {},
   "source": [
    "Notiamo che il modello è preciso al ~ 65% delle previsioni"
   ]
  },
  {
   "cell_type": "code",
   "execution_count": null,
   "metadata": {},
   "outputs": [],
   "source": []
  },
  {
   "cell_type": "markdown",
   "metadata": {},
   "source": [
    "# Creazione di nuove feature"
   ]
  },
  {
   "cell_type": "markdown",
   "metadata": {},
   "source": [
    "## Swap delle righe e \"target\" feature\n",
    "\n",
    "Siccome nei dati che vengono forniti chi vince e chi perde è già specificato, dobbiamo cercare di eliminare questa informazione rendendo anonimi i giocatori. Purtroppo fare questo non basta poichè rinominando le colonne \"Winner\" e \"Loser\" in \"Player1\" e \"Player2\" ed inizializzando la variabile \"target\" a 0, che identifica la vittoria di \"Player1\", avremmo soltanto il valore 0 in essa.\n",
    "Per questo utilizzo la funzione ***randomSwap*** per poter scegliere delle righe casuali ed invertire tutte le variabili di \"Player1\" e \"Player2\" in modo da far comparire degli 1 che ottengono il significato \"Player2 vince\"."
   ]
  },
  {
   "cell_type": "code",
   "execution_count": 96,
   "metadata": {},
   "outputs": [
    {
     "name": "stdout",
     "output_type": "stream",
     "text": [
      "Colonne che verranno swappate:\n",
      "['Player1', 'Player2', 'P1_Rank', 'P2_Rank', 'P1_Pts', 'P2_Pts']\n",
      "Random swap 1699/1700\n"
     ]
    }
   ],
   "source": [
    "randomSwap(df2017, 1700)"
   ]
  },
  {
   "cell_type": "markdown",
   "metadata": {},
   "source": [
    "## Rateo vittorie fra giocatori rispetto l'anno precedente\n",
    "\n",
    "Utilizzando la funzione ***addRateo*** verrà creata una matrice di giocatore X giocatore, dove i giocatori sono l'unione di quelli che hanno giocato l'anno precedente e l'anno in cui si vuole analizzare. In questo modo grazie alle partite dell'anno precendete è possibile vedere quanto un giocatore è stato più forte o più scarso rispetto a tutti gli altri giocatori.\n",
    "Una cosa importante che viene applicata in questa matrice di giocatore X giocatore è una tecnica chiamata *smoothing*, consiste nell'aggiungere del rumore in modo tale da non avere eventi troppo specifici, facciamo un esempio: Se \"Player1\" contro \"Player2\" ha vinto 2 partite nell'anno precedente, avrà il 100% di vittoria su \"Player2\" e \"Player1\" avrà lo 0% e questo non va bene. Se però aggiungiamo una vittoria ad entrambi i giocatori otterremo che \"Player1\" ha vinto 3 partite e \"Player2\" 1 partita, in questo modo otteremmo un rapporto 66% / 33% sulla probabilità di vittoria ed è più consistente."
   ]
  },
  {
   "cell_type": "code",
   "execution_count": null,
   "metadata": {},
   "outputs": [],
   "source": []
  },
  {
   "cell_type": "markdown",
   "metadata": {},
   "source": [
    "## Vittorie del giocatore in un tipo di campo specifico\n",
    "\n",
    "Questa feature viene creata con la funzione ***addFieldWR***, sonstanzialmente dato un daframe ed il suo anno, viene creato un nuovo dataframe che contiene tutti i giocatori che hanno giocato dal 2001 all'anno precedente a quello analizzato. In questo modo posso calcolare la bravura di quel giocatore in quel tipo di campo, ne esistono di 3 tipi \"Clay\",\"Hard\" e \"Grass\", calcolandone il rapporto fra tutte le partite che ha fatto. Anche qui viene applicato lo *smoothing* per i giocatori che non hanno mai giocato in un determinato tipo di campo o hanno iniziato a giocare nell'anno che viene analizzato."
   ]
  },
  {
   "cell_type": "code",
   "execution_count": null,
   "metadata": {},
   "outputs": [],
   "source": []
  },
  {
   "cell_type": "markdown",
   "metadata": {},
   "source": [
    "## Win Streak e Lose Streak di un giocatore in quell'anno\n",
    "\n",
    "Creata con ***addPrevWin*** aggiungo le informazioni di quante partite quel giocatore sta vincendo di fila, ma anche quante ne sta perdendo."
   ]
  },
  {
   "cell_type": "code",
   "execution_count": null,
   "metadata": {},
   "outputs": [],
   "source": []
  },
  {
   "cell_type": "markdown",
   "metadata": {},
   "source": [
    "# Supervised Learning\n",
    "\n",
    "Per applicare algoritmi di Supervised Learning, come kNN o BST, dobbiamo ottenere una variabile **X** che contiene tutte le feature ed i dati che utlizzeremo per fare una previsione e **y** la variabile da predirre.\n",
    "\n",
    "**IMPORTANTE:** nella variabile X dobbiamo eliminare assolutamente la variabile che dobbiamore preddire, altrimenti non ha senso!\n",
    "\n",
    "Inoltre vengono eliminati i giocatori perchè non li ritrovo utili ai fini della previsione"
   ]
  },
  {
   "cell_type": "markdown",
   "metadata": {},
   "source": [
    "Per come viene gestita la variabile \"target\" vengono creati ed allenati modelli devono risolvere un task di ***classificazione***"
   ]
  },
  {
   "cell_type": "markdown",
   "metadata": {},
   "source": [
    "# Applicazione KNN"
   ]
  },
  {
   "cell_type": "code",
   "execution_count": 97,
   "metadata": {},
   "outputs": [
    {
     "name": "stdout",
     "output_type": "stream",
     "text": [
      "Index(['Series', 'Round', 'P1_Rank', 'P2_Rank', 'P1_Pts', 'P2_Pts',\n",
      "       'Court_Indoor', 'Court_Outdoor', 'Surface_Clay', 'Surface_Grass',\n",
      "       'Surface_Hard', 'Best of_3', 'Best of_5'],\n",
      "      dtype='object')\n",
      "max Accuracy 0.6743383199079401 | number of neighbors 14\n"
     ]
    }
   ],
   "source": [
    "from sklearn import neighbors\n",
    "from sklearn.metrics import accuracy_score, confusion_matrix, classification_report\n",
    "\n",
    "X = df2017.drop([\"Player1\",\"Player2\", \"Tournament\",\"target\"], axis = 1)\n",
    "y= df2017[\"target\"]\n",
    "\n",
    "X_train, X_test, y_train, y_test = train_test_split(X, y, test_size=0.33)\n",
    "\n",
    "print(X_train.columns)\n",
    "\n",
    "maxknn=[]\n",
    "\n",
    "for k in range(1,15):    \n",
    "    kNN = neighbors.KNeighborsClassifier(n_neighbors=k)\n",
    "    kNN.fit(X_train,y_train)\n",
    "\n",
    "    y_pred = kNN.predict(X_test)\n",
    "    train_acc = accuracy_score(y_true=y_train, y_pred=kNN.predict(X_train))\n",
    "    test_acc = accuracy_score(y_true=y_test, y_pred=kNN.predict(X_test))\n",
    "    # matr[max_leaves, max_depth]=test_acc\n",
    "    maxknn.append(tuple([test_acc,k]))\n",
    "    #print (\"Neighbors:\", k, \" - Train Accuracy:\", train_acc, \" - Test Accuracy:\", test_acc)\n",
    "    maxknn.append(tuple([test_acc,k]))\n",
    "    \n",
    "print(\"max Accuracy\",max(maxknn)[0], \"| number of neighbors\",max(maxknn)[1] )"
   ]
  },
  {
   "cell_type": "markdown",
   "metadata": {},
   "source": [
    "# Applicazione albero"
   ]
  },
  {
   "cell_type": "code",
   "execution_count": 98,
   "metadata": {},
   "outputs": [],
   "source": [
    "X_train, X_test, y_train, y_test = train_test_split(X, y, test_size=0.33)"
   ]
  },
  {
   "cell_type": "code",
   "execution_count": 99,
   "metadata": {},
   "outputs": [
    {
     "name": "stdout",
     "output_type": "stream",
     "text": [
      "max Accuracy 0.6835443037974683 | number leaves 3\n"
     ]
    }
   ],
   "source": [
    "leavesArr = []\n",
    "\n",
    "# Esploro variando il numero di foglie\n",
    "\n",
    "for max_leaves in range(2,50):\n",
    "    # train and predict\n",
    "    dt = tree.DecisionTreeClassifier(max_leaf_nodes=max_leaves)\n",
    "    dt.fit(X_train,y_train)\n",
    "    train_acc = accuracy_score(y_true=y_train, y_pred=dt.predict(X_train))\n",
    "    test_acc = accuracy_score(y_true=y_test, y_pred=dt.predict(X_test))\n",
    "    leavesArr.append(tuple([test_acc,max_leaves]))\n",
    "    # print (\"Leaves:\", max_leaves, \" - Train Accuracy:\", train_acc, \" - Test Accuracy:\", test_acc)\n",
    "    \n",
    "print(\"max Accuracy\",max(leavesArr)[0], \"| number leaves\",max(leavesArr)[1] )"
   ]
  },
  {
   "cell_type": "code",
   "execution_count": 100,
   "metadata": {},
   "outputs": [
    {
     "name": "stdout",
     "output_type": "stream",
     "text": [
      "max Accuracy 0.6754890678941312 | number depth 5\n"
     ]
    }
   ],
   "source": [
    "depthArr = []\n",
    "\n",
    "#Esploro cambiando il numero di profondita\n",
    "\n",
    "for max_depth in range(2,50):\n",
    "    # train and predict\n",
    "    dt = tree.DecisionTreeClassifier(max_depth=max_depth)\n",
    "    dt.fit(X_train,y_train)\n",
    "    train_acc = accuracy_score(y_true=y_train, y_pred=dt.predict(X_train))\n",
    "    test_acc = accuracy_score(y_true=y_test, y_pred=dt.predict(X_test))\n",
    "    # matr[max_leaves, max_depth]=test_acc\n",
    "    depthArr.append(tuple([test_acc,max_depth]))\n",
    "    #print (\"Depth:\", max_depth, \" - Train Accuracy:\", train_acc, \" - Test Accuracy:\", test_acc)\n",
    "    \n",
    "print(\"max Accuracy\",max(depthArr)[0], \"| number depth\",max(depthArr)[1] )"
   ]
  },
  {
   "cell_type": "code",
   "execution_count": 101,
   "metadata": {},
   "outputs": [
    {
     "data": {
      "image/png": "[encoded data removed]",
      "text/plain": [
       "<Figure size 360x360 with 1 Axes>"
      ]
     },
     "metadata": {
      "needs_background": "light"
     },
     "output_type": "display_data"
    }
   ],
   "source": [
    "confusionMatrix(y_test,dt.predict(X_test))"
   ]
  },
  {
   "cell_type": "code",
   "execution_count": null,
   "metadata": {},
   "outputs": [],
   "source": []
  },
  {
   "cell_type": "markdown",
   "metadata": {},
   "source": [
    "# Aggiunta delle feature sui dataset\n",
    "\n",
    "Di seguito vengono formattati i dataset del 2017, 2018 e 2019 per utilizzare nei modelli di decisione"
   ]
  },
  {
   "cell_type": "code",
   "execution_count": 102,
   "metadata": {},
   "outputs": [
    {
     "name": "stdout",
     "output_type": "stream",
     "text": [
      "Loaded 2017\n"
     ]
    }
   ],
   "source": [
    "df2017 = loadDataset(\"2017\")\n",
    "df2017 = generalFormatting(df2017)\n",
    "df2017.drop([\"Date\", 'P1_S1', 'P2_S1', 'P1_S2',\n",
    "       'P2_S2', 'P1_S3', 'P2_S3', 'P1_S4', 'P2_S4', 'P1_S5', 'P2_S5',\n",
    "       'P1_sets', 'P2_sets', 'P1_B365', 'P2_B365', 'P1_EX', 'P2_EX', 'P1_LB',\n",
    "       'P2_LB', 'P1_PS', 'P2_PS', 'P1_Max', 'P2_Max', 'P1_Avg', 'P2_Avg'], axis = 1, inplace = True)\n",
    "\n",
    "print(\"Loaded 2017\")"
   ]
  },
  {
   "cell_type": "code",
   "execution_count": 103,
   "metadata": {},
   "outputs": [
    {
     "name": "stdout",
     "output_type": "stream",
     "text": [
      "addFieldWR\n",
      "fieldWinLose\n",
      "Loaded dataset 201 7\n",
      "1343\n",
      "Processing all player 1342/1343\n",
      "Adding rateo 2636/2637\n",
      "Loaded 2018\n",
      "Colonne che verranno swappate:\n",
      "['Player1', 'Player2', 'P1_Rank', 'P2_Rank', 'P1_Pts', 'P2_Pts', 'P1_winningField', 'P1_losingField', 'P2_winningField', 'P2_losingField']\n",
      "Random swap 1699/1700\n",
      "adding win streak / lose streak 2636/2637\n",
      "2018 Ready\n"
     ]
    }
   ],
   "source": [
    "df2018 = loadDataset(\"2018\")\n",
    "df2018 = addFieldWR(df2018,8)\n",
    "df2018.drop([\"Date\", 'P1_S1', 'P2_S1', 'P1_S2',\n",
    "       'P2_S2', 'P1_S3', 'P2_S3', 'P1_S4', 'P2_S4', 'P1_S5', 'P2_S5',\n",
    "       'P1_sets', 'P2_sets', 'P1_B365', 'P2_B365', 'P1_EX', 'P2_EX', 'P1_LB',\n",
    "       'P2_LB', 'P1_PS', 'P2_PS', 'P1_Max', 'P2_Max', 'P1_Avg', 'P2_Avg'], axis = 1, inplace = True)\n",
    "\n",
    "print(\"Loaded 2018\")\n",
    "\n",
    "# need this for adding rateo in 2019\n",
    "df2018noswap = df2018\n",
    "\n",
    "# work on 2018 for training the model\n",
    "randomSwap(df2018,1700)\n",
    "addPrevWin(df2018)\n",
    "addRateo(df2017,df2018)\n",
    "\n",
    "print(\"2018 Ready\")"
   ]
  },
  {
   "cell_type": "code",
   "execution_count": 104,
   "metadata": {},
   "outputs": [
    {
     "name": "stdout",
     "output_type": "stream",
     "text": [
      "addFieldWR\n",
      "fieldWinLose\n",
      "Loaded dataset 201 8\n",
      "1381\n",
      "Processing all player 1380/1381\n",
      "Adding rateo 2609/2610\n",
      "Loaded 2019\n",
      "adding win streak / lose streak 2609/2610\n",
      "Colonne che verranno swappate:\n",
      "['Player1', 'Player2', 'P1_Rank', 'P2_Rank', 'P1_Pts', 'P2_Pts', 'P1_winningField', 'P1_losingField', 'P2_winningField', 'P2_losingField', 'P1_precWin', 'P2_precWin', 'P1_precLose', 'P2_precLose']\n",
      "Random swap 1699/1700\n",
      "Ready 2019\n"
     ]
    }
   ],
   "source": [
    "df2019 = loadDataset(\"2019\")\n",
    "df2019 = addFieldWR(df2019,9)\n",
    "df2019.drop([\"Date\", 'P1_S1', 'P2_S1', 'P1_S2', 'P2_S2', 'P1_S3', 'P2_S3', 'P1_S4', 'P2_S4', 'P1_S5', 'P2_S5',\n",
    "       'P1_sets', 'P2_sets', 'P1_B365', 'P2_B365', 'P1_PS', 'P2_PS', 'P1_Max', 'P2_Max', 'P1_Avg', 'P2_Avg'], axis = 1, inplace = True)\n",
    "\n",
    "print(\"Loaded 2019\")\n",
    "\n",
    "# 2019 ready for go\n",
    "addPrevWin(df2019)\n",
    "randomSwap(df2019,1700)\n",
    "\n",
    "print(\"Ready 2019\")"
   ]
  },
  {
   "cell_type": "markdown",
   "metadata": {},
   "source": [
    "# Test dell'albero di decisione con le feature aggiunte"
   ]
  },
  {
   "cell_type": "code",
   "execution_count": 105,
   "metadata": {},
   "outputs": [
    {
     "name": "stdout",
     "output_type": "stream",
     "text": [
      "max Accuracy 0.8002296211251435 | number leaves 42\n"
     ]
    }
   ],
   "source": [
    "X = df2018.drop([\"Player1\", \"Player2\",\"target\"], axis = 1)\n",
    "y = df2018[\"target\"]\n",
    "\n",
    "X_train, X_test, y_train, y_test = train_test_split(X, y, test_size=0.33)\n",
    "\n",
    "GiniTreeArr = []\n",
    "\n",
    "# Esploro variando il numero di foglie\n",
    "for max_leaves in range(2,50):\n",
    "    # train and predict\n",
    "    dt = tree.DecisionTreeClassifier(max_leaf_nodes=max_leaves)\n",
    "    dt.fit(X_train,y_train)\n",
    "    train_acc = accuracy_score(y_true=y_train, y_pred=dt.predict(X_train))\n",
    "    test_acc = accuracy_score(y_true=y_test, y_pred=dt.predict(X_test))\n",
    "    GiniTreeArr.append(tuple([test_acc,max_leaves, dt]))\n",
    "    # print (\"Leaves:\", max_leaves, \" - Train Accuracy:\", train_acc, \" - Test Accuracy:\", test_acc)\n",
    "    \n",
    "print(\"max Accuracy\",max(GiniTreeArr)[0], \"| number leaves\",max(GiniTreeArr)[1] )"
   ]
  },
  {
   "cell_type": "code",
   "execution_count": 106,
   "metadata": {},
   "outputs": [
    {
     "name": "stdout",
     "output_type": "stream",
     "text": [
      "max Accuracy 0.7864523536165328 | number leaves 40\n"
     ]
    }
   ],
   "source": [
    "# Information Gain Split\n",
    "\n",
    "X = df2018.drop([\"Player1\", \"Player2\",\"target\"], axis = 1)\n",
    "y = df2018[\"target\"]\n",
    "\n",
    "X_train, X_test, y_train, y_test = train_test_split(X, y, test_size=0.33)\n",
    "\n",
    "InfoTreeArr = []\n",
    "\n",
    "# Esploro variando il numero di foglie\n",
    "for max_leaves in range(2,50):\n",
    "    # train and predict\n",
    "    dt = tree.DecisionTreeClassifier(max_leaf_nodes=max_leaves, criterion =\"entropy\")\n",
    "    dt.fit(X_train,y_train)\n",
    "    train_acc = accuracy_score(y_true=y_train, y_pred=dt.predict(X_train))\n",
    "    test_acc = accuracy_score(y_true=y_test, y_pred=dt.predict(X_test))\n",
    "    InfoTreeArr.append(tuple([test_acc,max_leaves, dt]))\n",
    "    # print (\"Leaves:\", max_leaves, \" - Train Accuracy:\", train_acc, \" - Test Accuracy:\", test_acc)\n",
    "    \n",
    "print(\"max Accuracy\",max(InfoTreeArr)[0], \"| number leaves\",max(InfoTreeArr)[1] )"
   ]
  },
  {
   "cell_type": "code",
   "execution_count": 107,
   "metadata": {
    "scrolled": false
   },
   "outputs": [
    {
     "data": {
      "text/plain": [
       "DecisionTreeClassifier(ccp_alpha=0.0, class_weight=None, criterion='gini',\n",
       "                       max_depth=None, max_features=None, max_leaf_nodes=42,\n",
       "                       min_impurity_decrease=0.0, min_impurity_split=None,\n",
       "                       min_samples_leaf=1, min_samples_split=2,\n",
       "                       min_weight_fraction_leaf=0.0, presort='deprecated',\n",
       "                       random_state=None, splitter='best')"
      ]
     },
     "execution_count": 107,
     "metadata": {},
     "output_type": "execute_result"
    }
   ],
   "source": [
    "bestTree = max(GiniTreeArr)[2]\n",
    "bestTree"
   ]
  },
  {
   "cell_type": "code",
   "execution_count": 108,
   "metadata": {},
   "outputs": [
    {
     "data": {
      "image/png": "[encoded data removed]",
      "text/plain": [
       "<Figure size 360x360 with 1 Axes>"
      ]
     },
     "metadata": {
      "needs_background": "light"
     },
     "output_type": "display_data"
    }
   ],
   "source": [
    "confusionMatrix(y_test,bestTree.predict(X_test))"
   ]
  },
  {
   "cell_type": "code",
   "execution_count": 109,
   "metadata": {},
   "outputs": [
    {
     "data": {
      "text/plain": [
       "Text(0, 0.5, 'Feature importance %')"
      ]
     },
     "execution_count": 109,
     "metadata": {},
     "output_type": "execute_result"
    },
    {
     "data": {
      "image/png": "[encoded data removed]",
      "text/plain": [
       "<Figure size 576x576 with 1 Axes>"
      ]
     },
     "metadata": {
      "needs_background": "light"
     },
     "output_type": "display_data"
    }
   ],
   "source": [
    "%matplotlib inline\n",
    "import matplotlib.pyplot as plt\n",
    "\n",
    "fig, ax = plt.subplots(figsize=(8,8))\n",
    "ax.bar(X_test.columns, bestTree.feature_importances_ * 100)\n",
    "plt.xticks(np.arange(0, len(X_test.columns)), rotation = \"vertical\")\n",
    "ax.set_title(\"Feature Importances\")\n",
    "ax.set_ylabel(\"Feature importance %\")"
   ]
  },
  {
   "cell_type": "markdown",
   "metadata": {},
   "source": [
    "# AGGIUNGERE ESPLOSO DELL'ALBERO DI DECISIONE"
   ]
  },
  {
   "cell_type": "markdown",
   "metadata": {},
   "source": [
    "Vengono provati gli algoritmi di bagging e boosting per vedere di quando è possibile migliorare un albero di decisione"
   ]
  },
  {
   "cell_type": "code",
   "execution_count": 110,
   "metadata": {},
   "outputs": [
    {
     "name": "stdout",
     "output_type": "stream",
     "text": [
      "Accuracy: 0.7611940298507462\n",
      "Accuracy: 0.7726750861079219\n",
      "Accuracy: 0.7956371986222732\n",
      "Accuracy: 0.7921928817451206\n",
      "Accuracy: 0.8082663605051664\n",
      "Accuracy: 0.8208955223880597\n",
      "Accuracy: 0.8197474167623421\n",
      "Accuracy: 0.8082663605051664\n",
      "Accuracy: 0.8151549942594719\n",
      "Accuracy: 0.8208955223880597\n",
      "Accuracy: 0.7967853042479908\n",
      "Accuracy: 0.801377726750861\n",
      "Accuracy: 0.8163030998851895\n",
      "Accuracy: 0.8220436280137773\n"
     ]
    }
   ],
   "source": [
    "# try bagging\n",
    "from sklearn.ensemble import BaggingClassifier\n",
    "\n",
    "for i in range(1,15):\n",
    "    bagged_dt = BaggingClassifier(bestTree, n_estimators=i)\n",
    "\n",
    "    bagged_dt.fit(X_train,y_train)\n",
    "    print (\"Accuracy:\", accuracy_score(y_true=y_test, y_pred=bagged_dt.predict(X_test)) )"
   ]
  },
  {
   "cell_type": "code",
   "execution_count": 126,
   "metadata": {},
   "outputs": [
    {
     "name": "stdout",
     "output_type": "stream",
     "text": [
      "Accuracy: 0.7818599311136625\n",
      "Accuracy: 0.7887485648679678\n",
      "Accuracy: 0.7933409873708381\n",
      "Accuracy: 0.8128587830080367\n",
      "Accuracy: 0.8082663605051664\n",
      "Accuracy: 0.8082663605051664\n",
      "Accuracy: 0.8117106773823192\n",
      "Accuracy: 0.8128587830080367\n",
      "Accuracy: 0.7876004592422503\n",
      "Accuracy: 0.8071182548794489\n",
      "Accuracy: 0.7887485648679678\n",
      "Accuracy: 0.8036739380022963\n",
      "Accuracy: 0.8094144661308841\n",
      "Accuracy: 0.8117106773823192\n"
     ]
    }
   ],
   "source": [
    "# boosting\n",
    "from sklearn.ensemble import AdaBoostClassifier\n",
    "\n",
    "for i in range(1,15):\n",
    "    bagged_dt = AdaBoostClassifier(bestTree, n_estimators=i)\n",
    "\n",
    "    bagged_dt.fit(X_train,y_train)\n",
    "    print (\"Accuracy:\", accuracy_score(y_true=y_test, y_pred=bagged_dt.predict(X_test)) )"
   ]
  },
  {
   "cell_type": "code",
   "execution_count": null,
   "metadata": {},
   "outputs": [],
   "source": []
  },
  {
   "cell_type": "markdown",
   "metadata": {},
   "source": [
    "# Random forest"
   ]
  },
  {
   "cell_type": "code",
   "execution_count": 112,
   "metadata": {
    "scrolled": true
   },
   "outputs": [
    {
     "name": "stdout",
     "output_type": "stream",
     "text": [
      "making forest with 99 trees\n",
      "max Accuracy 0.8541905855338691 | number of trees 91\n"
     ]
    }
   ],
   "source": [
    "from sklearn.ensemble import RandomForestClassifier\n",
    "\n",
    "X = df2018.drop([\"Player1\", \"Player2\" ,\"target\"], axis = 1)\n",
    "y = df2018[\"target\"]\n",
    "\n",
    "X_train, X_test, y_train, y_test = train_test_split(X, y, test_size=0.33)\n",
    "\n",
    "forestArr = []\n",
    "rfArr = []\n",
    "\n",
    "for forest in range(2,100):\n",
    "    print(\"making forest with {} trees\".format(forest), end =\"\\r\")\n",
    "    # train and predict\n",
    "    rf = RandomForestClassifier(n_estimators=forest)\n",
    "    rf.fit(X_train,y_train)\n",
    "    train_acc = accuracy_score(y_true=y_train, y_pred=rf.predict(X_train))\n",
    "    test_acc = accuracy_score(y_true=y_test, y_pred=rf.predict(X_test))\n",
    "    forestArr.append(tuple([test_acc,forest, rf]))\n",
    "    # print (\"Forest:\", forest, \" - Train Accuracy:\", train_acc, \" - Test Accuracy:\", test_acc)\n",
    "    \n",
    "print(\"\") \n",
    "print(\"max Accuracy\",max(forestArr)[0], \"| number of trees\",max(forestArr)[1] )\n",
    "\n",
    "bestForest = max(forestArr)[2]\n"
   ]
  },
  {
   "cell_type": "code",
   "execution_count": 113,
   "metadata": {},
   "outputs": [
    {
     "data": {
      "text/plain": [
       "RandomForestClassifier(bootstrap=True, ccp_alpha=0.0, class_weight=None,\n",
       "                       criterion='gini', max_depth=None, max_features='auto',\n",
       "                       max_leaf_nodes=None, max_samples=None,\n",
       "                       min_impurity_decrease=0.0, min_impurity_split=None,\n",
       "                       min_samples_leaf=1, min_samples_split=2,\n",
       "                       min_weight_fraction_leaf=0.0, n_estimators=91,\n",
       "                       n_jobs=None, oob_score=False, random_state=None,\n",
       "                       verbose=0, warm_start=False)"
      ]
     },
     "execution_count": 113,
     "metadata": {},
     "output_type": "execute_result"
    }
   ],
   "source": [
    "bestForest"
   ]
  },
  {
   "cell_type": "code",
   "execution_count": 114,
   "metadata": {
    "scrolled": true
   },
   "outputs": [
    {
     "name": "stdout",
     "output_type": "stream",
     "text": [
      "Feature 'Tournament' importance 4.66 %\n",
      "Feature 'Series' importance 1.70 %\n",
      "Feature 'Round' importance 2.51 %\n",
      "Feature 'P1_Rank' importance 8.46 %\n",
      "Feature 'P2_Rank' importance 8.08 %\n",
      "Feature 'P1_Pts' importance 9.07 %\n",
      "Feature 'P2_Pts' importance 9.31 %\n",
      "Feature 'Court_Indoor' importance 0.58 %\n",
      "Feature 'Court_Outdoor' importance 0.45 %\n",
      "Feature 'Surface_Clay' importance 0.77 %\n",
      "Feature 'Surface_Grass' importance 0.75 %\n",
      "Feature 'Surface_Hard' importance 1.05 %\n",
      "Feature 'Best of_3' importance 0.51 %\n",
      "Feature 'Best of_5' importance 0.42 %\n",
      "Feature 'P1_winningField' importance 9.58 %\n",
      "Feature 'P1_losingField' importance 10.07 %\n",
      "Feature 'P2_winningField' importance 10.13 %\n",
      "Feature 'P2_losingField' importance 12.03 %\n",
      "Feature 'P1_precWin' importance 2.44 %\n",
      "Feature 'P2_precWin' importance 1.74 %\n",
      "Feature 'P1_precLose' importance 1.12 %\n",
      "Feature 'P2_precLose' importance 2.12 %\n",
      "Feature 'P1_WinRateo' importance 1.21 %\n",
      "Feature 'P2_WinRateo' importance 1.24 %\n"
     ]
    }
   ],
   "source": [
    "# Feature importance in RF\n",
    "for i,col in enumerate(X_test.columns):\n",
    "    print(\"Feature '{}' importance {:.2f} %\".format(col, bestForest.feature_importances_[i]*100))"
   ]
  },
  {
   "cell_type": "code",
   "execution_count": 115,
   "metadata": {},
   "outputs": [
    {
     "data": {
      "text/plain": [
       "Text(0, 0.5, 'Feature importance %')"
      ]
     },
     "execution_count": 115,
     "metadata": {},
     "output_type": "execute_result"
    },
    {
     "data": {
      "image/png": "[encoded data removed]",
      "text/plain": [
       "<Figure size 576x576 with 1 Axes>"
      ]
     },
     "metadata": {
      "needs_background": "light"
     },
     "output_type": "display_data"
    }
   ],
   "source": [
    "%matplotlib inline\n",
    "import matplotlib.pyplot as plt\n",
    "\n",
    "fig, ax = plt.subplots(figsize=(8,8))\n",
    "ax.bar(X_test.columns, bestForest.feature_importances_ * 100)\n",
    "plt.xticks(np.arange(0, len(X_test.columns)), rotation = \"vertical\")\n",
    "ax.set_title(\"Feature Importances\")\n",
    "ax.set_ylabel(\"Feature importance %\")"
   ]
  },
  {
   "cell_type": "code",
   "execution_count": 116,
   "metadata": {},
   "outputs": [
    {
     "data": {
      "image/png": "[encoded data removed]",
      "text/plain": [
       "<Figure size 360x360 with 1 Axes>"
      ]
     },
     "metadata": {
      "needs_background": "light"
     },
     "output_type": "display_data"
    }
   ],
   "source": [
    "confusionMatrix(y_test,bestForest.predict(X_test))"
   ]
  },
  {
   "cell_type": "markdown",
   "metadata": {},
   "source": [
    "# ROC - AUC "
   ]
  },
  {
   "cell_type": "code",
   "execution_count": 117,
   "metadata": {},
   "outputs": [
    {
     "data": {
      "image/png": "[encoded data removed]",
      "text/plain": [
       "<Figure size 432x288 with 1 Axes>"
      ]
     },
     "metadata": {
      "needs_background": "light"
     },
     "output_type": "display_data"
    }
   ],
   "source": [
    "import scikitplot as skplt\n",
    "\n",
    "y_score = bestForest.predict_proba(X_test)\n",
    "\n",
    "skplt.metrics.plot_roc(y_test, y_score)\n",
    "plt.show()"
   ]
  },
  {
   "cell_type": "markdown",
   "metadata": {},
   "source": [
    "# Recursive Feature Elimination (RFE)"
   ]
  },
  {
   "cell_type": "code",
   "execution_count": 127,
   "metadata": {
    "scrolled": true
   },
   "outputs": [
    {
     "name": "stdout",
     "output_type": "stream",
     "text": [
      "Top 6 important feature selected\n",
      "['P1_Pts', 'P2_Pts', 'P1_winningField', 'P1_losingField', 'P2_winningField', 'P2_losingField']\n"
     ]
    }
   ],
   "source": [
    "# Recursive Feature Elimination \n",
    "from sklearn.feature_selection import RFE\n",
    "\n",
    "from itertools import compress\n",
    "\n",
    "X = df2018.drop([\"Player1\",\"Player2\" ,\"target\"], axis = 1)\n",
    "y = df2018[\"target\"]\n",
    "\n",
    "X_train, X_test, y_train, y_test = train_test_split(X, y, test_size=0.33)\n",
    "\n",
    "n = 6\n",
    "\n",
    "selector = RFE(rf, \n",
    "                 step=1, # features removed at each step\n",
    "                 n_features_to_select= n # selected features\n",
    "                )\n",
    "selector.fit(X_train,y_train)\n",
    "\n",
    "\n",
    "\n",
    "print(\"Top {} important feature selected\".format(n))\n",
    "\n",
    "print(list(compress(X_test.columns.tolist(),selector.support_)))"
   ]
  },
  {
   "cell_type": "code",
   "execution_count": 128,
   "metadata": {},
   "outputs": [
    {
     "name": "stdout",
     "output_type": "stream",
     "text": [
      "Test Accuracy: 0.8541905855338691\n"
     ]
    }
   ],
   "source": [
    "test_acc = accuracy_score(y_true=y_test, y_pred=selector.predict(X_test))\n",
    "\n",
    "print (\"Test Accuracy:\", test_acc)"
   ]
  },
  {
   "cell_type": "code",
   "execution_count": 120,
   "metadata": {},
   "outputs": [
    {
     "data": {
      "image/png": "[encoded data removed]",
      "text/plain": [
       "<Figure size 360x360 with 1 Axes>"
      ]
     },
     "metadata": {
      "needs_background": "light"
     },
     "output_type": "display_data"
    }
   ],
   "source": [
    "confusionMatrix(y_test,selector.predict(X_test))"
   ]
  },
  {
   "cell_type": "code",
   "execution_count": null,
   "metadata": {},
   "outputs": [],
   "source": []
  },
  {
   "cell_type": "code",
   "execution_count": null,
   "metadata": {},
   "outputs": [],
   "source": []
  },
  {
   "cell_type": "code",
   "execution_count": null,
   "metadata": {},
   "outputs": [],
   "source": []
  },
  {
   "cell_type": "code",
   "execution_count": null,
   "metadata": {},
   "outputs": [],
   "source": []
  },
  {
   "cell_type": "code",
   "execution_count": null,
   "metadata": {},
   "outputs": [],
   "source": []
  },
  {
   "cell_type": "code",
   "execution_count": null,
   "metadata": {},
   "outputs": [],
   "source": []
  },
  {
   "cell_type": "code",
   "execution_count": null,
   "metadata": {},
   "outputs": [],
   "source": []
  },
  {
   "cell_type": "code",
   "execution_count": null,
   "metadata": {},
   "outputs": [],
   "source": []
  },
  {
   "cell_type": "code",
   "execution_count": null,
   "metadata": {},
   "outputs": [],
   "source": []
  },
  {
   "cell_type": "code",
   "execution_count": null,
   "metadata": {},
   "outputs": [],
   "source": []
  },
  {
   "cell_type": "code",
   "execution_count": null,
   "metadata": {},
   "outputs": [],
   "source": []
  },
  {
   "cell_type": "markdown",
   "metadata": {},
   "source": [
    "# Tournament Simulation"
   ]
  },
  {
   "cell_type": "markdown",
   "metadata": {},
   "source": [
    "Viene simulato il torneo con i diversi modelli di previsione per vederne il loro risultato"
   ]
  },
  {
   "cell_type": "code",
   "execution_count": 121,
   "metadata": {},
   "outputs": [
    {
     "name": "stdout",
     "output_type": "stream",
     "text": [
      "['Player', 'Rank', 'Pts', 'winningField', 'losingField', 'precWin', 'precLose']\n",
      "Round 1\n",
      "64\n",
      "Round 2\n",
      "32\n",
      "Round 3\n",
      "16\n",
      "Round 4\n",
      "8\n",
      "Round 5\n",
      "4\n",
      "Round 6\n",
      "2\n",
      "Round 7\n",
      "1\n"
     ]
    },
    {
     "data": {
      "text/html": [
       "<div>\n",
       "<style scoped>\n",
       "    .dataframe tbody tr th:only-of-type {\n",
       "        vertical-align: middle;\n",
       "    }\n",
       "\n",
       "    .dataframe tbody tr th {\n",
       "        vertical-align: top;\n",
       "    }\n",
       "\n",
       "    .dataframe thead th {\n",
       "        text-align: right;\n",
       "    }\n",
       "</style>\n",
       "<table border=\"1\" class=\"dataframe\">\n",
       "  <thead>\n",
       "    <tr style=\"text-align: right;\">\n",
       "      <th></th>\n",
       "      <th>Player</th>\n",
       "      <th>Rank</th>\n",
       "      <th>Pts</th>\n",
       "      <th>winningField</th>\n",
       "      <th>losingField</th>\n",
       "      <th>precWin</th>\n",
       "      <th>precLose</th>\n",
       "    </tr>\n",
       "  </thead>\n",
       "  <tbody>\n",
       "    <tr>\n",
       "      <th>0</th>\n",
       "      <td>Anderson K.</td>\n",
       "      <td>6.0</td>\n",
       "      <td>4810.0</td>\n",
       "      <td>0.607735</td>\n",
       "      <td>0.392265</td>\n",
       "      <td>11</td>\n",
       "      <td>0</td>\n",
       "    </tr>\n",
       "  </tbody>\n",
       "</table>\n",
       "</div>"
      ],
      "text/plain": [
       "        Player  Rank     Pts  winningField  losingField  precWin  precLose\n",
       "0  Anderson K.   6.0  4810.0      0.607735     0.392265       11         0"
      ]
     },
     "execution_count": 121,
     "metadata": {},
     "output_type": "execute_result"
    }
   ],
   "source": [
    "tournamentSimulation(df2019.loc[139:265,:], df2018noswap, bestTree)"
   ]
  },
  {
   "cell_type": "code",
   "execution_count": 122,
   "metadata": {
    "scrolled": true
   },
   "outputs": [
    {
     "name": "stdout",
     "output_type": "stream",
     "text": [
      "['Player', 'Rank', 'Pts', 'winningField', 'losingField', 'precWin', 'precLose']\n",
      "Round 1\n",
      "64\n",
      "Round 2\n",
      "32\n",
      "Round 3\n",
      "16\n",
      "Round 4\n",
      "8\n",
      "Round 5\n",
      "4\n",
      "Round 6\n",
      "2\n",
      "Round 7\n",
      "1\n"
     ]
    },
    {
     "data": {
      "text/html": [
       "<div>\n",
       "<style scoped>\n",
       "    .dataframe tbody tr th:only-of-type {\n",
       "        vertical-align: middle;\n",
       "    }\n",
       "\n",
       "    .dataframe tbody tr th {\n",
       "        vertical-align: top;\n",
       "    }\n",
       "\n",
       "    .dataframe thead th {\n",
       "        text-align: right;\n",
       "    }\n",
       "</style>\n",
       "<table border=\"1\" class=\"dataframe\">\n",
       "  <thead>\n",
       "    <tr style=\"text-align: right;\">\n",
       "      <th></th>\n",
       "      <th>Player</th>\n",
       "      <th>Rank</th>\n",
       "      <th>Pts</th>\n",
       "      <th>winningField</th>\n",
       "      <th>losingField</th>\n",
       "      <th>precWin</th>\n",
       "      <th>precLose</th>\n",
       "    </tr>\n",
       "  </thead>\n",
       "  <tbody>\n",
       "    <tr>\n",
       "      <th>0</th>\n",
       "      <td>Krueger M.</td>\n",
       "      <td>230.0</td>\n",
       "      <td>216.0</td>\n",
       "      <td>0.333333</td>\n",
       "      <td>0.666667</td>\n",
       "      <td>7</td>\n",
       "      <td>0</td>\n",
       "    </tr>\n",
       "  </tbody>\n",
       "</table>\n",
       "</div>"
      ],
      "text/plain": [
       "       Player   Rank    Pts  winningField  losingField  precWin  precLose\n",
       "0  Krueger M.  230.0  216.0      0.333333     0.666667        7         0"
      ]
     },
     "execution_count": 122,
     "metadata": {},
     "output_type": "execute_result"
    }
   ],
   "source": [
    "tournamentSimulation(df2019.loc[139:265,:], df2018noswap, bestForest)"
   ]
  },
  {
   "cell_type": "code",
   "execution_count": 123,
   "metadata": {},
   "outputs": [
    {
     "name": "stdout",
     "output_type": "stream",
     "text": [
      "['Player', 'Rank', 'Pts', 'winningField', 'losingField', 'precWin', 'precLose']\n",
      "Round 1\n",
      "64\n",
      "Round 2\n",
      "32\n",
      "Round 3\n",
      "16\n",
      "Round 4\n",
      "8\n",
      "Round 5\n",
      "4\n",
      "Round 6\n",
      "2\n",
      "Round 7\n",
      "1\n"
     ]
    },
    {
     "data": {
      "text/html": [
       "<div>\n",
       "<style scoped>\n",
       "    .dataframe tbody tr th:only-of-type {\n",
       "        vertical-align: middle;\n",
       "    }\n",
       "\n",
       "    .dataframe tbody tr th {\n",
       "        vertical-align: top;\n",
       "    }\n",
       "\n",
       "    .dataframe thead th {\n",
       "        text-align: right;\n",
       "    }\n",
       "</style>\n",
       "<table border=\"1\" class=\"dataframe\">\n",
       "  <thead>\n",
       "    <tr style=\"text-align: right;\">\n",
       "      <th></th>\n",
       "      <th>Player</th>\n",
       "      <th>Rank</th>\n",
       "      <th>Pts</th>\n",
       "      <th>winningField</th>\n",
       "      <th>losingField</th>\n",
       "      <th>precWin</th>\n",
       "      <th>precLose</th>\n",
       "    </tr>\n",
       "  </thead>\n",
       "  <tbody>\n",
       "    <tr>\n",
       "      <th>0</th>\n",
       "      <td>Thiem D.</td>\n",
       "      <td>8.0</td>\n",
       "      <td>4095.0</td>\n",
       "      <td>0.553672</td>\n",
       "      <td>0.446328</td>\n",
       "      <td>7</td>\n",
       "      <td>0</td>\n",
       "    </tr>\n",
       "  </tbody>\n",
       "</table>\n",
       "</div>"
      ],
      "text/plain": [
       "     Player  Rank     Pts  winningField  losingField  precWin  precLose\n",
       "0  Thiem D.   8.0  4095.0      0.553672     0.446328        7         0"
      ]
     },
     "execution_count": 123,
     "metadata": {},
     "output_type": "execute_result"
    }
   ],
   "source": [
    "tournamentSimulation(df2019.loc[139:265,:], df2018noswap, selector)"
   ]
  },
  {
   "cell_type": "code",
   "execution_count": null,
   "metadata": {},
   "outputs": [],
   "source": []
  },
  {
   "cell_type": "code",
   "execution_count": null,
   "metadata": {},
   "outputs": [],
   "source": []
  },
  {
   "cell_type": "code",
   "execution_count": null,
   "metadata": {},
   "outputs": [],
   "source": []
  },
  {
   "cell_type": "code",
   "execution_count": null,
   "metadata": {},
   "outputs": [],
   "source": []
  }
 ],
 "metadata": {
  "kernelspec": {
   "display_name": "Python 3",
   "language": "python",
   "name": "python3"
  },
  "language_info": {
   "codemirror_mode": {
    "name": "ipython",
    "version": 3
   },
   "file_extension": ".py",
   "mimetype": "text/x-python",
   "name": "python",
   "nbconvert_exporter": "python",
   "pygments_lexer": "ipython3",
   "version": "3.7.5"
  }
 },
 "nbformat": 4,
 "nbformat_minor": 2
}
