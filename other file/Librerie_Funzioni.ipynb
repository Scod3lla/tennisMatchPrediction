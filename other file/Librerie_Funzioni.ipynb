{
 "cells": [
  {
   "cell_type": "markdown",
   "metadata": {},
   "source": []
  },
  {
   "cell_type": "markdown",
   "metadata": {},
   "source": [
    "# FUNZIONI + LIBRERIE"
   ]
  },
  {
   "cell_type": "code",
   "execution_count": null,
   "metadata": {},
   "outputs": [],
   "source": [
    "# LIBRERIE\n",
    "import pandas as pd\n",
    "import numpy as np\n",
    "from sklearn.preprocessing import LabelEncoder\n",
    "from pandas.api.types import CategoricalDtype\n"
   ]
  },
  {
   "cell_type": "code",
   "execution_count": null,
   "metadata": {},
   "outputs": [],
   "source": [
    "# CARICAMENTO DATI\n",
    "def loadDataset(year):\n",
    "    dataset_path = \"../datasets/tennis/\"+year+\".xlsx\"\n",
    "    return pd.read_excel(dataset_path)\n",
    "\n"
   ]
  },
  {
   "cell_type": "code",
   "execution_count": null,
   "metadata": {},
   "outputs": [],
   "source": [
    "# Mi serve per sapere l'encoding dei giocatori \n",
    "def playEncode(df):\n",
    "    playerList=set(df[\"Winner\"]) | set(df[\"Loser\"]) # Trovo tutti i giocatori singoli\n",
    "    \n",
    "    # Formattazione dei Giocatori\n",
    "    playerEncode = {}\n",
    "    for index, player in enumerate(playerList):\n",
    "        playerEncode[player] = index\n",
    "        \n",
    "    return playerEncode"
   ]
  },
  {
   "cell_type": "code",
   "execution_count": null,
   "metadata": {},
   "outputs": [],
   "source": [
    "# Formattazione generale del dataset\n",
    "def generalFormatting(dfCopy, playerEncode):\n",
    "    \n",
    "    df = dfCopy.copy()\n",
    "    \n",
    "    # Cambio nome delle colonne Winner/Loser\n",
    "    dictCol = {'Winner' :\"Player1\", 'Loser':'Player2', 'WRank':'P1_Rank', 'LRank':'P2_Rank', 'WPts':'P1_Pts', 'LPts':'P2_Pts',\n",
    "       'W1':'P1_S1', 'L1':'P2_S1', 'W2':'P1_S2', \"L2\":'P2_S2', 'W3':'P1_S3', 'L3':'P2_S3', 'W4':'P1_S4', 'L4':'P2_S4', 'W5':'P1_S5', \"L5\":'P2_S5', 'Wsets':'P1_sets',\n",
    "       'Lsets':'P2_sets', 'B365W':'P1_B365', 'B365L':'P2_B365', 'EXW':'P1_EX', 'EXL':'P2_EX', 'LBW':'P1_LB', 'LBL':'P2_LB', 'PSW':'P1_PS',\n",
    "       'PSL':'P2_PS', 'MaxW':'P1_Max', 'MaxL':'P2_Max', 'AvgW':'P1_Avg', 'AvgL':'P2_Avg'}\n",
    "\n",
    "    df.rename(columns=dictCol, inplace=True)\n",
    "    \n",
    "    df.replace({\"Player1\":playerEncode, \"Player2\":playerEncode}, inplace = True)\n",
    "    \n",
    "    # Fill NA\n",
    "    df.fillna(0, inplace = True)\n",
    "    \n",
    "    # One Hot Encoding\n",
    "    df = pd.get_dummies(df, columns = [\"Court\", \"Surface\",\"Comment\", \"Best of\"])\n",
    "    \n",
    "    # Encoding Tipo torneo con peso\n",
    "    df[\"Series\"]=df[\"Series\"].astype('category')\n",
    "    cats_to_order = [\"ATP250\", \"ATP500\", \"Masters 1000\", \"Masters Cup\", \"Grand Slam\"]\n",
    "    covered_type = CategoricalDtype(categories=cats_to_order, ordered=True)\n",
    "    df['Series'] = df['Series'].cat.reorder_categories(cats_to_order, ordered=True)\n",
    "    df[\"Series\"] = df[\"Series\"].cat.codes\n",
    "    \n",
    "    # Encoding Round Torneo con peso\n",
    "    df[\"Round\"]=df[\"Round\"].astype('category')\n",
    "    cats_to_order = [\"Round Robin\", \"1st Round\",'2nd Round','3rd Round','4th Round','Quarterfinals', 'Semifinals', 'The Final']\n",
    "    covered_type = CategoricalDtype(categories=cats_to_order, ordered=True)\n",
    "    df['Round'] = df['Round'].cat.reorder_categories(cats_to_order, ordered=True)\n",
    "    df[\"Round\"] = df[\"Round\"].cat.codes\n",
    "    \n",
    "    # Rimozione colonne influenti\n",
    "    df.drop([\"Location\", \"ATP\"], axis =1, inplace=True)\n",
    "    \n",
    "    # Encoding Nome tornei\n",
    "    lb_make = LabelEncoder()\n",
    "    df[\"Tournament\"] = lb_make.fit_transform(df[\"Tournament\"])\n",
    "    df[\"target\"] = 0\n",
    "    \n",
    "    return df\n",
    "    "
   ]
  },
  {
   "cell_type": "code",
   "execution_count": null,
   "metadata": {},
   "outputs": [],
   "source": [
    "# Swap tra due valori\n",
    "def swap (a,b):\n",
    "    c=a\n",
    "    a=b\n",
    "    b=c\n",
    "    return a,b\n",
    "\n",
    "# Effetua lo swap dei valori di una riga\n",
    "def swapP1P2 (row):\n",
    "    copy = row.copy()\n",
    "    swapCol=['Player1', 'Player2', 'P1_Rank', 'P2_Rank', 'P1_Pts', 'P2_Pts', 'P1_S1', 'P2_S1', 'P1_S2', 'P2_S2', 'P1_S3', 'P2_S3', 'P1_S4', 'P2_S4', 'P1_S5', 'P2_S5',\n",
    "       'P1_sets', 'P2_sets', 'P1_B365', 'P2_B365', 'P1_EX', 'P2_EX', 'P1_LB', 'P2_LB', 'P1_PS', 'P2_PS', 'P1_Max', 'P2_Max', 'P1_Avg', 'P2_Avg']\n",
    "    \n",
    "    for i in range(0, int(len(swapCol)/2)):\n",
    "        index=i*2\n",
    "        aa = swapCol[index]\n",
    "        bb = swapCol[index+1]\n",
    "        copy[aa],copy[bb] = swap(copy[aa],copy[bb])\n",
    "        copy[\"target\"] = np.where (copy[\"target\"] == 0, 1, 0)\n",
    "        \n",
    "    return copy\n",
    "        \n",
    "# Data un dataframe fa swap di colonne di righe random\n",
    "def randomSwap(df):\n",
    "    maxRow = df.shape[0]\n",
    "    for i in range(0,1000):\n",
    "        pos = np.random.randint(0,maxRow)\n",
    "        df.loc[pos] = swapP1P2(df.loc[pos])"
   ]
  },
  {
   "cell_type": "code",
   "execution_count": null,
   "metadata": {},
   "outputs": [],
   "source": [
    "# Crea una matrice di Giocatore X Giocatore segnando quante volte uno a vinto contro un altro\n",
    "def playerDf(df_old, df_new):\n",
    "    playerList=set(df_old[\"Winner\"]) | set(df_old[\"Loser\"]) | set(df_new[\"Winner\"]) | set(df_new[\"Loser\"]) # Trovo tutti i giocatori singoli\n",
    "    \n",
    "    newDf= pd.DataFrame(data = 0, index=playerList, columns=playerList) # Creo un dataframe per vedere chi vince con chi\n",
    "    \n",
    "    winLoseDf = df_old[[\"Winner\",\"Loser\"]] # Per popolarlo prendo chi vince e chi perde\n",
    "    \n",
    "    for index, row in winLoseDf.iterrows():       \n",
    "        newDf.loc[row[\"Winner\"],row[\"Loser\"]]+=1\n",
    "        \n",
    "        \n",
    "    return newDf"
   ]
  },
  {
   "cell_type": "code",
   "execution_count": null,
   "metadata": {},
   "outputs": [],
   "source": [
    "# Mi serve per calcore il rateo di vittoria di un giocatore, se i giocatori non hanno giocato è 0.5\n",
    "def rateo(p1, p2, wl):\n",
    "    if wl.loc[p1, p2] == 0 and wl.loc[p2, p1] == 0:\n",
    "        return 0.5\n",
    "    else:\n",
    "        return wl.loc[p1, p2] / (wl.loc[p1, p2]+wl.loc[p2,p1]) "
   ]
  },
  {
   "cell_type": "code",
   "execution_count": 2,
   "metadata": {},
   "outputs": [
    {
     "name": "stdout",
     "output_type": "stream",
     "text": [
      "/home/scodella/Scrivania/Stallio_and_Ollio/Web_intelligence/notebook/progetto\n"
     ]
    }
   ],
   "source": [
    "%%sh\n",
    "pwd\n"
   ]
  },
  {
   "cell_type": "code",
   "execution_count": 3,
   "metadata": {},
   "outputs": [
    {
     "name": "stdout",
     "output_type": "stream",
     "text": [
      "helloWorld\n"
     ]
    }
   ],
   "source": [
    "# Easy \n",
    "from function import helloWorld\n",
    "\n",
    "helloWorld()"
   ]
  },
  {
   "cell_type": "code",
   "execution_count": null,
   "metadata": {},
   "outputs": [],
   "source": []
  }
 ],
 "metadata": {
  "kernelspec": {
   "display_name": "Python 3",
   "language": "python",
   "name": "python3"
  },
  "language_info": {
   "codemirror_mode": {
    "name": "ipython",
    "version": 3
   },
   "file_extension": ".py",
   "mimetype": "text/x-python",
   "name": "python",
   "nbconvert_exporter": "python",
   "pygments_lexer": "ipython3",
   "version": "3.7.5"
  }
 },
 "nbformat": 4,
 "nbformat_minor": 2
}
